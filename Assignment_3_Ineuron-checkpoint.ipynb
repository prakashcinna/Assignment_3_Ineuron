{
 "cells": [
  {
   "cell_type": "markdown",
   "id": "af4709d6",
   "metadata": {},
   "source": [
    "## 1.1 Write a Python Program to implement your own myreduce() function which works exactly like Python's built-in function reduce()"
   ]
  },
  {
   "cell_type": "code",
   "execution_count": 15,
   "id": "42dca958",
   "metadata": {},
   "outputs": [
    {
     "name": "stdout",
     "output_type": "stream",
     "text": [
      "1200\n"
     ]
    }
   ],
   "source": [
    "def myreduce(multiple,list_1):\n",
    "    return a\n",
    "def multiple(a,b):\n",
    "    return a*b\n",
    "list_1=[3,5,2,4,10]\n",
    "a=list_1[0]\n",
    "for i in range(1,len(list_1)):\n",
    "    b=list_1[i]\n",
    "    a=multiple(a,b)\n",
    "print(myreduce(multiple,list_1))"
   ]
  },
  {
   "cell_type": "markdown",
   "id": "7dfc360c",
   "metadata": {},
   "source": [
    "## Write a Python program to implement your own myfilter() function which works exactly       like Python's built-in function filter()"
   ]
  },
  {
   "cell_type": "code",
   "execution_count": 13,
   "id": "1301db3e",
   "metadata": {},
   "outputs": [
    {
     "name": "stdout",
     "output_type": "stream",
     "text": [
      "[3, 5, 7, 9, 11]\n"
     ]
    }
   ],
   "source": [
    "def myfilter(is_odd,list_2):\n",
    "    return is_odd(a)\n",
    "list_2=[2,3,4,5,6,7,8,9,10,11,12]\n",
    "list_3=[]\n",
    "def is_odd(a):\n",
    "    for i in list_2:\n",
    "        if i%2 ==1:\n",
    "            list_3.append(i)\n",
    "    print(list_3)\n",
    "myfilter(is_odd,list_2)"
   ]
  },
  {
   "cell_type": "markdown",
   "id": "d429831b",
   "metadata": {},
   "source": [
    "## 2. Implement List comprehensions to produce the following lists."
   ]
  },
  {
   "cell_type": "code",
   "execution_count": 17,
   "id": "03409cb6",
   "metadata": {},
   "outputs": [
    {
     "data": {
      "text/plain": [
       "['x', 'xx', 'xxx', 'xxxx', 'y', 'yy', 'yyy', 'yyyy', 'z', 'zz', 'zzz', 'zzzz']"
      ]
     },
     "execution_count": 17,
     "metadata": {},
     "output_type": "execute_result"
    }
   ],
   "source": [
    "list_1=['x','y','z']\n",
    "lst2=[i*j for j in list_1 for i in range(1,5)]\n",
    "lst2"
   ]
  },
  {
   "cell_type": "code",
   "execution_count": 19,
   "id": "36e87bf4",
   "metadata": {},
   "outputs": [
    {
     "data": {
      "text/plain": [
       "['x', 'y', 'z', 'xx', 'yy', 'zz', 'xxx', 'yyy', 'zzz', 'xxxx', 'yyyy', 'zzzz']"
      ]
     },
     "execution_count": 19,
     "metadata": {},
     "output_type": "execute_result"
    }
   ],
   "source": [
    "list_3=['x','y','z']\n",
    "lst4=[i*j for j in range(1,5) for i in list_3]\n",
    "lst4"
   ]
  },
  {
   "cell_type": "code",
   "execution_count": null,
   "id": "0c550f51",
   "metadata": {},
   "outputs": [],
   "source": [
    "lst5=[[x+y] for y in range(3) for x in range(2,5)]\n",
    "lst5"
   ]
  },
  {
   "cell_type": "code",
   "execution_count": 4,
   "id": "7d23d423",
   "metadata": {},
   "outputs": [
    {
     "data": {
      "text/plain": [
       "[[2, 3, 4, 5], [3, 4, 5, 6], [4, 5, 6, 7], [5, 6, 7, 8]]"
      ]
     },
     "execution_count": 4,
     "metadata": {},
     "output_type": "execute_result"
    }
   ],
   "source": [
    "lst6=[[a+b for b in range(2,6)] for a in range(4)]\n",
    "lst6"
   ]
  },
  {
   "cell_type": "code",
   "execution_count": 8,
   "id": "d2aeb6db",
   "metadata": {},
   "outputs": [
    {
     "data": {
      "text/plain": [
       "[(1, 1), (2, 1), (3, 1), (1, 2), (2, 2), (3, 2), (1, 3), (2, 3), (3, 3)]"
      ]
     },
     "execution_count": 8,
     "metadata": {},
     "output_type": "execute_result"
    }
   ],
   "source": [
    "lst7=[(x,y) for y in range(1,4) for x in range(1,4)]\n",
    "lst7                       \n"
   ]
  }
 ],
 "metadata": {
  "kernelspec": {
   "display_name": "Python 3",
   "language": "python",
   "name": "python3"
  },
  "language_info": {
   "codemirror_mode": {
    "name": "ipython",
    "version": 3
   },
   "file_extension": ".py",
   "mimetype": "text/x-python",
   "name": "python",
   "nbconvert_exporter": "python",
   "pygments_lexer": "ipython3",
   "version": "3.8.5"
  }
 },
 "nbformat": 4,
 "nbformat_minor": 5
}
